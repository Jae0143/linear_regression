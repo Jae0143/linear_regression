{
 "cells": [
  {
   "cell_type": "markdown",
   "id": "2cd9cf11",
   "metadata": {},
   "source": [
    "# Trial Data for Linear Regression\n",
    "This is for testing out the implemented function using another exemplar dataset from Coursera"
   ]
  },
  {
   "cell_type": "code",
   "execution_count": 1,
   "id": "e8dfa7c5",
   "metadata": {},
   "outputs": [],
   "source": [
    "import pandas as pd\n",
    "import numpy as np\n",
    "import matplotlib.pyplot as plt\n",
    "import seaborn as sns\n",
    "# Color for matplotlib\n",
    "from matplotlib import cm\n",
    "import matplotlib as mpl\n",
    "%matplotlib inline\n",
    "#Using tex for matplotlib axis \n",
    "mpl.rcParams['text.usetex'] = True"
   ]
  },
  {
   "cell_type": "code",
   "execution_count": 2,
   "id": "b2a4bb37",
   "metadata": {},
   "outputs": [
    {
     "data": {
      "text/html": [
       "<div>\n",
       "<style scoped>\n",
       "    .dataframe tbody tr th:only-of-type {\n",
       "        vertical-align: middle;\n",
       "    }\n",
       "\n",
       "    .dataframe tbody tr th {\n",
       "        vertical-align: top;\n",
       "    }\n",
       "\n",
       "    .dataframe thead th {\n",
       "        text-align: right;\n",
       "    }\n",
       "</style>\n",
       "<table border=\"1\" class=\"dataframe\">\n",
       "  <thead>\n",
       "    <tr style=\"text-align: right;\">\n",
       "      <th></th>\n",
       "      <th>Population of City in 10,000s</th>\n",
       "      <th>Profit in \\$10,000s</th>\n",
       "    </tr>\n",
       "  </thead>\n",
       "  <tbody>\n",
       "    <tr>\n",
       "      <th>0</th>\n",
       "      <td>6.1101</td>\n",
       "      <td>17.5920</td>\n",
       "    </tr>\n",
       "    <tr>\n",
       "      <th>1</th>\n",
       "      <td>5.5277</td>\n",
       "      <td>9.1302</td>\n",
       "    </tr>\n",
       "    <tr>\n",
       "      <th>2</th>\n",
       "      <td>8.5186</td>\n",
       "      <td>13.6620</td>\n",
       "    </tr>\n",
       "    <tr>\n",
       "      <th>3</th>\n",
       "      <td>7.0032</td>\n",
       "      <td>11.8540</td>\n",
       "    </tr>\n",
       "    <tr>\n",
       "      <th>4</th>\n",
       "      <td>5.8598</td>\n",
       "      <td>6.8233</td>\n",
       "    </tr>\n",
       "  </tbody>\n",
       "</table>\n",
       "</div>"
      ],
      "text/plain": [
       "   Population of City in 10,000s  Profit in \\$10,000s\n",
       "0                         6.1101              17.5920\n",
       "1                         5.5277               9.1302\n",
       "2                         8.5186              13.6620\n",
       "3                         7.0032              11.8540\n",
       "4                         5.8598               6.8233"
      ]
     },
     "execution_count": 2,
     "metadata": {},
     "output_type": "execute_result"
    }
   ],
   "source": [
    "df = pd.read_csv(\"./ex1data1.txt\", names = [\"Population of City in 10,000s\", \"Profit in \\$10,000s\"])\n",
    "df.head()"
   ]
  },
  {
   "cell_type": "code",
   "execution_count": 3,
   "id": "d2c2d957",
   "metadata": {},
   "outputs": [
    {
     "data": {
      "image/png": "[encoded data removed]",
      "text/plain": [
       "<Figure size 432x288 with 1 Axes>"
      ]
     },
     "metadata": {
      "needs_background": "light"
     },
     "output_type": "display_data"
    }
   ],
   "source": [
    "plt.scatter(df.iloc[:, 0], df.iloc[:, 1])\n",
    "plt.xlabel(df.columns[0])\n",
    "plt.ylabel(df.columns[1])\n",
    "plt.show()"
   ]
  },
  {
   "cell_type": "code",
   "execution_count": 4,
   "id": "b2319b37",
   "metadata": {},
   "outputs": [],
   "source": [
    "def hypothesis(x, theta):\n",
    "    return (theta[0] + theta[1] * x)\n",
    "\n",
    "def uni_mse(x, y, theta):\n",
    "    squared_sum = 0\n",
    "    m = y.size\n",
    "    for i_th in range(x.size):\n",
    "        squared_sum += np.square(hypothesis(x[i_th], theta) - y[i_th])\n",
    "    return (1/ (2*m) * squared_sum)\n",
    "    \n"
   ]
  },
  {
   "cell_type": "code",
   "execution_count": 5,
   "id": "a2f7fec1",
   "metadata": {},
   "outputs": [],
   "source": [
    "x = df.iloc[:, 0]\n",
    "y = df.iloc[:, 1]\n",
    "theta = [-1, 2]\n"
   ]
  },
  {
   "cell_type": "code",
   "execution_count": null,
   "id": "4a2f9737",
   "metadata": {},
   "outputs": [],
   "source": [
    "# Define the range of theta 0 and theta 1, where the cost will be visualized \n",
    "theta0_val = np.linspace(-10, 10, 100)\n",
    "theta1_val = np.linspace(-1, 4, 100)\n",
    "\n",
    "# Set up zero matrix, so that the combination of each theta 0 and theta 1 can generate the error\n",
    "J_vals = np.zeros((theta0_val.size, theta1_val.size))\n",
    "for i in range(theta0_val.size):\n",
    "    for j in range(theta1_val.size):\n",
    "        theta = [theta0_val[i], theta1_val[j]]\n",
    "        J_vals[i, j] = uni_mse(x, y, theta)\n",
    "J_vals = np.matrix.transpose(J_vals)"
   ]
  },
  {
   "cell_type": "code",
   "execution_count": null,
   "id": "06a863c0",
   "metadata": {},
   "outputs": [],
   "source": [
    "\n",
    "X, Y = np.meshgrid(theta0_val, theta1_val)\n",
    "fig = plt.figure(figsize = (9,9))\n",
    "ax = plt.axes(projection='3d')\n",
    "ax.plot_surface(X, Y, J_vals,cmap = cm.Spectral)\n",
    "ax.set_xlabel(r'$\\theta_0$', fontsize=16)\n",
    "ax.set_ylabel(r'$\\theta_1$', fontsize=16)\n",
    "ax.set_zlabel(r'$J(\\theta)$', fontsize=16)\n",
    "\n",
    "ax.invert_xaxis()\n",
    "\n",
    "plt.show()"
   ]
  },
  {
   "cell_type": "code",
   "execution_count": null,
   "id": "8c33bce8",
   "metadata": {},
   "outputs": [],
   "source": [
    "X, Y = np.meshgrid(theta0_val, theta1_val)\n",
    "fig,ax=plt.subplots(1,1, figsize=(12,8))\n",
    "ax.contour(X, Y, (J_vals), np.logspace(-1, 3), cmap = cm.coolwarm)\n",
    "ax.plot(-3.6303, 1.1664, \"-o\", label = \"Global Minima\")\n",
    "ax.legend()\n",
    "ax.set_xlabel(r'$\\theta_0$', fontsize=16)\n",
    "ax.set_ylabel(r'$\\theta_1$', fontsize=16)\n",
    "plt.show()"
   ]
  },
  {
   "cell_type": "code",
   "execution_count": null,
   "id": "04b7ce4e",
   "metadata": {},
   "outputs": [],
   "source": []
  },
  {
   "cell_type": "code",
   "execution_count": null,
   "id": "31990f4a",
   "metadata": {},
   "outputs": [],
   "source": []
  },
  {
   "cell_type": "code",
   "execution_count": null,
   "id": "e2998a01",
   "metadata": {},
   "outputs": [],
   "source": []
  }
 ],
 "metadata": {
  "kernelspec": {
   "display_name": "data",
   "language": "python",
   "name": "data"
  },
  "language_info": {
   "codemirror_mode": {
    "name": "ipython",
    "version": 3
   },
   "file_extension": ".py",
   "mimetype": "text/x-python",
   "name": "python",
   "nbconvert_exporter": "python",
   "pygments_lexer": "ipython3",
   "version": "3.9.5"
  }
 },
 "nbformat": 4,
 "nbformat_minor": 5
}
