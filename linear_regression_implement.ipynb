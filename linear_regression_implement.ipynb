{
 "cells": [
  {
   "cell_type": "markdown",
   "id": "4c0a6286-7c0a-46e9-8f05-baa470130c33",
   "metadata": {},
   "source": [
    "# Implementing Linear Regression in Python"
   ]
  },
  {
   "cell_type": "markdown",
   "id": "fe5ba84b-ea37-4f10-bb32-04aab5e5f08f",
   "metadata": {},
   "source": [
    "## 1. Importing Required Packages"
   ]
  },
  {
   "cell_type": "code",
   "execution_count": 1,
   "id": "f3d6d638-1d8a-41e8-a5df-6bf841793316",
   "metadata": {},
   "outputs": [],
   "source": [
    "import pandas, numpy, matplotlib, seaborn"
   ]
  },
  {
   "cell_type": "markdown",
   "id": "97b151f1-417d-4029-8649-9933d218eb17",
   "metadata": {},
   "source": [
    "## 2. Importing the Data"
   ]
  },
  {
   "cell_type": "code",
   "execution_count": null,
   "id": "ba163eb3-40f9-4f12-935f-af9eb242836d",
   "metadata": {},
   "outputs": [],
   "source": []
  }
 ],
 "metadata": {
  "kernelspec": {
   "display_name": "data",
   "language": "python",
   "name": "data"
  },
  "language_info": {
   "codemirror_mode": {
    "name": "ipython",
    "version": 3
   },
   "file_extension": ".py",
   "mimetype": "text/x-python",
   "name": "python",
   "nbconvert_exporter": "python",
   "pygments_lexer": "ipython3",
   "version": "3.9.5"
  }
 },
 "nbformat": 4,
 "nbformat_minor": 5
}
